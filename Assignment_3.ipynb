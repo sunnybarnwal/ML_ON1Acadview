{
  "nbformat": 4,
  "nbformat_minor": 0,
  "metadata": {
    "colab": {
      "name": "Assignment_3.ipynb",
      "version": "0.3.2",
      "provenance": []
    },
    "kernelspec": {
      "name": "python3",
      "display_name": "Python 3"
    }
  },
  "cells": [
    {
      "cell_type": "markdown",
      "metadata": {
        "id": "view-in-github",
        "colab_type": "text"
      },
      "source": [
        "[View in Colaboratory](https://colab.research.google.com/github/sunnybarnwal/ML_ON1Acadview/blob/master/Assignment_3.ipynb)"
      ]
    },
    {
      "metadata": {
        "id": "oqv7pajejNVT",
        "colab_type": "code",
        "colab": {}
      },
      "cell_type": "code",
      "source": [
        "#Question 1"
      ],
      "execution_count": 0,
      "outputs": []
    },
    {
      "metadata": {
        "id": "ECWVNWhAWzBM",
        "colab_type": "code",
        "colab": {
          "base_uri": "https://localhost:8080/",
          "height": 34
        },
        "outputId": "0e9e6c2c-2b44-47f2-c124-b22a11c1655c"
      },
      "cell_type": "code",
      "source": [
        "def prob(a,b,c):\n",
        "  return (c*b)/a\n",
        "pa=11/36\n",
        "pb=1/6\n",
        "pab=1/18\n",
        "print(prob(pa,pb,pab))"
      ],
      "execution_count": 3,
      "outputs": [
        {
          "output_type": "stream",
          "text": [
            "0.0303030303030303\n"
          ],
          "name": "stdout"
        }
      ]
    },
    {
      "metadata": {
        "id": "T5GRuxqQjS_W",
        "colab_type": "code",
        "colab": {}
      },
      "cell_type": "code",
      "source": [
        "#Question 2"
      ],
      "execution_count": 0,
      "outputs": []
    },
    {
      "metadata": {
        "id": "yrtKd9OzjFAm",
        "colab_type": "code",
        "colab": {
          "base_uri": "https://localhost:8080/",
          "height": 34
        },
        "outputId": "9bde337c-95cc-4f92-873e-3b79425f512d"
      },
      "cell_type": "code",
      "source": [
        "#P(blackball)=(6/10)*(1/2)+(3/7)*1/2\n",
        "#P(blackball and bag2)=(3/7)*(1/2)\n",
        "#P(bag2|black)=(P(blackball and bag2))/(P(blackball))\n",
        "a=pblckball=.514285714\n",
        "b=pblckballndbag2=.214285714\n",
        "print(b/a)"
      ],
      "execution_count": 4,
      "outputs": [
        {
          "output_type": "stream",
          "text": [
            "0.4166666663425926\n"
          ],
          "name": "stdout"
        }
      ]
    },
    {
      "metadata": {
        "id": "4kVSpUXxmbvO",
        "colab_type": "code",
        "colab": {}
      },
      "cell_type": "code",
      "source": [
        "#Question 3"
      ],
      "execution_count": 0,
      "outputs": []
    },
    {
      "metadata": {
        "id": "x0FEaJp7mf7y",
        "colab_type": "code",
        "colab": {}
      },
      "cell_type": "code",
      "source": [
        "Ptruth=2/3\n",
        "P4=1/6\n",
        "Px=(1/6)*(2/3)/(((1/6)*(2/3))+((5/6)*(1/3)))"
      ],
      "execution_count": 0,
      "outputs": []
    },
    {
      "metadata": {
        "id": "iH1lsnuOrEf3",
        "colab_type": "code",
        "colab": {
          "base_uri": "https://localhost:8080/",
          "height": 34
        },
        "outputId": "9d1a3de9-30b8-4f89-9a11-ec1fe393f6d8"
      },
      "cell_type": "code",
      "source": [
        "Px"
      ],
      "execution_count": 6,
      "outputs": [
        {
          "output_type": "execute_result",
          "data": {
            "text/plain": [
              "0.2857142857142857"
            ]
          },
          "metadata": {
            "tags": []
          },
          "execution_count": 6
        }
      ]
    }
  ]
}