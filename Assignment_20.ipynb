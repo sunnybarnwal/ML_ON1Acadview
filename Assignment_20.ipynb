{
  "nbformat": 4,
  "nbformat_minor": 0,
  "metadata": {
    "colab": {
      "name": "Assignment_20.ipynb",
      "version": "0.3.2",
      "provenance": [],
      "include_colab_link": true
    },
    "kernelspec": {
      "name": "python3",
      "display_name": "Python 3"
    }
  },
  "cells": [
    {
      "cell_type": "markdown",
      "metadata": {
        "id": "view-in-github",
        "colab_type": "text"
      },
      "source": [
        "[View in Colaboratory](https://colab.research.google.com/github/sunnybarnwal/ML_ON1Acadview/blob/master/Assignment_20.ipynb)"
      ]
    },
    {
      "metadata": {
        "id": "c6gwNk0Lsb-f",
        "colab_type": "code",
        "colab": {
          "base_uri": "https://localhost:8080/",
          "height": 34
        },
        "outputId": "9417ef5a-7d97-4d85-efef-2719a09a8443"
      },
      "cell_type": "code",
      "source": [
        "print('f=(a*b)+(a*c)-(b+c)')"
      ],
      "execution_count": 2,
      "outputs": [
        {
          "output_type": "stream",
          "text": [
            "f=(a*b)+(a*c)-(b+c)\n"
          ],
          "name": "stdout"
        }
      ]
    },
    {
      "metadata": {
        "id": "OMdQ7c3NtTzQ",
        "colab_type": "text"
      },
      "cell_type": "markdown",
      "source": [
        "##Signals and it's corresponding weights"
      ]
    },
    {
      "metadata": {
        "id": "9oXx3u7RsxKs",
        "colab_type": "code",
        "colab": {}
      },
      "cell_type": "code",
      "source": [
        "a1=-0.06\n",
        "a2=-2.5\n",
        "a3=1.4\n",
        "w1=2.7\n",
        "w2=-8.6\n",
        "w3=0.002"
      ],
      "execution_count": 0,
      "outputs": []
    },
    {
      "metadata": {
        "id": "i0fQuplAtGYH",
        "colab_type": "code",
        "colab": {
          "base_uri": "https://localhost:8080/",
          "height": 34
        },
        "outputId": "54d77f0e-0826-4346-9a32-a3a0022bb2f0"
      },
      "cell_type": "code",
      "source": [
        "x=a1*w1+a2*w2+a3*w3\n",
        "print(x)"
      ],
      "execution_count": 4,
      "outputs": [
        {
          "output_type": "stream",
          "text": [
            "21.3408\n"
          ],
          "name": "stdout"
        }
      ]
    },
    {
      "metadata": {
        "id": "nA8BS_R-tkhk",
        "colab_type": "code",
        "colab": {}
      },
      "cell_type": "code",
      "source": [
        "import math"
      ],
      "execution_count": 0,
      "outputs": []
    },
    {
      "metadata": {
        "id": "W3LVaCeHuAsf",
        "colab_type": "code",
        "colab": {
          "base_uri": "https://localhost:8080/",
          "height": 34
        },
        "outputId": "d0a966cf-c6cf-4e0f-b153-46d785d4e043"
      },
      "cell_type": "code",
      "source": [
        "f=1/(1+math.exp(-x))\n",
        "f"
      ],
      "execution_count": 7,
      "outputs": [
        {
          "output_type": "execute_result",
          "data": {
            "text/plain": [
              "0.9999999994607274"
            ]
          },
          "metadata": {
            "tags": []
          },
          "execution_count": 7
        }
      ]
    },
    {
      "metadata": {
        "id": "DyxsOGsrvFcu",
        "colab_type": "text"
      },
      "cell_type": "markdown",
      "source": [
        "###Calculating the New f when bias=-1.1"
      ]
    },
    {
      "metadata": {
        "id": "ReQxhdK1uY4S",
        "colab_type": "code",
        "colab": {
          "base_uri": "https://localhost:8080/",
          "height": 34
        },
        "outputId": "6a2fae20-3d2c-4001-f78c-03f1b768d518"
      },
      "cell_type": "code",
      "source": [
        "bias=-1.1\n",
        "new_x=a1*w1 + a2*w2 + a3*w3 + 1*bias\n",
        "new_x"
      ],
      "execution_count": 8,
      "outputs": [
        {
          "output_type": "execute_result",
          "data": {
            "text/plain": [
              "20.2408"
            ]
          },
          "metadata": {
            "tags": []
          },
          "execution_count": 8
        }
      ]
    },
    {
      "metadata": {
        "id": "AHfEYar4umGe",
        "colab_type": "code",
        "colab": {
          "base_uri": "https://localhost:8080/",
          "height": 34
        },
        "outputId": "7978fda1-16d1-4a23-bc94-5e81e8db55d9"
      },
      "cell_type": "code",
      "source": [
        "new_f=1/(1+math.exp(-new_x))\n",
        "new_f"
      ],
      "execution_count": 10,
      "outputs": [
        {
          "output_type": "execute_result",
          "data": {
            "text/plain": [
              "0.9999999983799357"
            ]
          },
          "metadata": {
            "tags": []
          },
          "execution_count": 10
        }
      ]
    },
    {
      "metadata": {
        "id": "wcjhobv3vRJv",
        "colab_type": "text"
      },
      "cell_type": "markdown",
      "source": [
        "###Conclusion \n",
        "There is very small change which is negligible in activation function when we use bias and when we don't use bias."
      ]
    }
  ]
}