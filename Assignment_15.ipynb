{
  "nbformat": 4,
  "nbformat_minor": 0,
  "metadata": {
    "colab": {
      "name": "Assignment_15.ipynb",
      "version": "0.3.2",
      "provenance": [],
      "include_colab_link": true
    },
    "kernelspec": {
      "name": "python3",
      "display_name": "Python 3"
    }
  },
  "cells": [
    {
      "cell_type": "markdown",
      "metadata": {
        "id": "view-in-github",
        "colab_type": "text"
      },
      "source": [
        "[View in Colaboratory](https://colab.research.google.com/github/sunnybarnwal/ML_ON1Acadview/blob/master/Assignment_15.ipynb)"
      ]
    },
    {
      "metadata": {
        "id": "ul6yOhtCnsHb",
        "colab_type": "text"
      },
      "cell_type": "markdown",
      "source": [
        "##Svm\n",
        "Support vector machine\n",
        "\n",
        "SVM is a algorithm which is used in machine learning for sepration of data it uses hyperplane to seprate the data.\n",
        "Here we are going to Classify hand written digit using various type of SVM Classifier"
      ]
    },
    {
      "metadata": {
        "id": "a7zJeKvcnWjy",
        "colab_type": "code",
        "colab": {}
      },
      "cell_type": "code",
      "source": [
        "import pandas as pd\n",
        "import numpy as np\n",
        "import seaborn as sns\n",
        "import matplotlib.pyplot as mlp\n",
        "% matplotlib inline"
      ],
      "execution_count": 0,
      "outputs": []
    },
    {
      "metadata": {
        "id": "DPh6YP_5pbgK",
        "colab_type": "code",
        "colab": {}
      },
      "cell_type": "code",
      "source": [
        "from sklearn.datasets import load_digits\n",
        "digit=load_digits()"
      ],
      "execution_count": 0,
      "outputs": []
    },
    {
      "metadata": {
        "id": "KMaZsV6IpmOM",
        "colab_type": "code",
        "colab": {
          "base_uri": "https://localhost:8080/",
          "height": 34
        },
        "outputId": "dc193632-4cb2-4373-f7fc-b98c54a7d369"
      },
      "cell_type": "code",
      "source": [
        "digit.data.shape"
      ],
      "execution_count": 3,
      "outputs": [
        {
          "output_type": "execute_result",
          "data": {
            "text/plain": [
              "(1797, 64)"
            ]
          },
          "metadata": {
            "tags": []
          },
          "execution_count": 3
        }
      ]
    },
    {
      "metadata": {
        "id": "V-FxcRdGpwBo",
        "colab_type": "code",
        "colab": {
          "base_uri": "https://localhost:8080/",
          "height": 34
        },
        "outputId": "424138e2-4cb6-4c8f-9482-28fdb9b60f31"
      },
      "cell_type": "code",
      "source": [
        "digit.data.size"
      ],
      "execution_count": 4,
      "outputs": [
        {
          "output_type": "execute_result",
          "data": {
            "text/plain": [
              "115008"
            ]
          },
          "metadata": {
            "tags": []
          },
          "execution_count": 4
        }
      ]
    },
    {
      "metadata": {
        "id": "WlMMpiYjpz-F",
        "colab_type": "code",
        "colab": {
          "base_uri": "https://localhost:8080/",
          "height": 2574
        },
        "outputId": "5f8212be-0731-4602-8cdb-bdf98a43b57e"
      },
      "cell_type": "code",
      "source": [
        "mlp.gray() \n",
        "mlp.matshow(digit.images[0]) \n",
        "mlp.matshow(digit.images[1]) \n",
        "mlp.matshow(digit.images[2])\n",
        "mlp.matshow(digit.images[3]) \n",
        "mlp.matshow(digit.images[4]) \n",
        "mlp.matshow(digit.images[5]) \n",
        "mlp.matshow(digit.images[6]) \n",
        "mlp.matshow(digit.images[7]) \n",
        "mlp.matshow(digit.images[8])\n",
        "mlp.matshow(digit.images[9]) \n",
        "mlp.show()"
      ],
      "execution_count": 5,
      "outputs": [
        {
          "output_type": "display_data",
          "data": {
            "text/plain": [
              "<matplotlib.figure.Figure at 0x7fd1fa7e92b0>"
            ]
          },
          "metadata": {
            "tags": []
          }
        },
        {
          "output_type": "display_data",
          "data": {
            "image/png": "[encoded data removed]",
            "text/plain": [
              "<matplotlib.figure.Figure at 0x7fd1fa7e9278>"
            ]
          },
          "metadata": {
            "tags": []
          }
        },
        {
          "output_type": "display_data",
          "data": {
            "image/png": "[encoded data removed]",
            "text/plain": [
              "<matplotlib.figure.Figure at 0x7fd1fa7e9940>"
            ]
          },
          "metadata": {
            "tags": []
          }
        },
        {
          "output_type": "display_data",
          "data": {
            "image/png": "[encoded data removed]",
            "text/plain": [
              "<matplotlib.figure.Figure at 0x7fd1fa7473c8>"
            ]
          },
          "metadata": {
            "tags": []
          }
        },
        {
          "output_type": "display_data",
          "data": {
            "image/png": "[encoded data removed]",
            "text/plain": [
              "<matplotlib.figure.Figure at 0x7fd1fa625908>"
            ]
          },
          "metadata": {
            "tags": []
          }
        },
        {
          "output_type": "display_data",
          "data": {
            "image/png": "[encoded data removed]",
            "text/plain": [
              "<matplotlib.figure.Figure at 0x7fd1fa547eb8>"
            ]
          },
          "metadata": {
            "tags": []
          }
        },
        {
          "output_type": "display_data",
          "data": {
            "image/png": "[encoded data removed]",
            "text/plain": [
              "<matplotlib.figure.Figure at 0x7fd1fa7c9b70>"
            ]
          },
          "metadata": {
            "tags": []
          }
        },
        {
          "output_type": "display_data",
          "data": {
            "image/png": "[encoded data removed]",
            "text/plain": [
              "<matplotlib.figure.Figure at 0x7fd1fa78e828>"
            ]
          },
          "metadata": {
            "tags": []
          }
        },
        {
          "output_type": "display_data",
          "data": {
            "image/png": "[encoded data removed]",
            "text/plain": [
              "<matplotlib.figure.Figure at 0x7fd1fa75d8d0>"
            ]
          },
          "metadata": {
            "tags": []
          }
        },
        {
          "output_type": "display_data",
          "data": {
            "image/png": "[encoded data removed]",
            "text/plain": [
              "<matplotlib.figure.Figure at 0x7fd1fa6c9048>"
            ]
          },
          "metadata": {
            "tags": []
          }
        },
        {
          "output_type": "display_data",
          "data": {
            "image/png": "[encoded data removed]",
            "text/plain": [
              "<matplotlib.figure.Figure at 0x7fd1fa680cc0>"
            ]
          },
          "metadata": {
            "tags": []
          }
        }
      ]
    },
    {
      "metadata": {
        "id": "-uQNelSiqu1F",
        "colab_type": "code",
        "colab": {
          "base_uri": "https://localhost:8080/",
          "height": 34
        },
        "outputId": "6457d912-344c-4245-ecba-befcc0cb2b05"
      },
      "cell_type": "code",
      "source": [
        "digit.keys()"
      ],
      "execution_count": 6,
      "outputs": [
        {
          "output_type": "execute_result",
          "data": {
            "text/plain": [
              "dict_keys(['data', 'target', 'target_names', 'images', 'DESCR'])"
            ]
          },
          "metadata": {
            "tags": []
          },
          "execution_count": 6
        }
      ]
    },
    {
      "metadata": {
        "id": "bNEOMflgq56n",
        "colab_type": "code",
        "colab": {}
      },
      "cell_type": "code",
      "source": [
        "#Storing the data\n",
        "X=np.array(digit.data)\n",
        "Y=np.array(digit.target)"
      ],
      "execution_count": 0,
      "outputs": []
    },
    {
      "metadata": {
        "id": "BzZfXPWvrOsl",
        "colab_type": "code",
        "colab": {
          "base_uri": "https://localhost:8080/",
          "height": 71
        },
        "outputId": "3fe0b6a8-603e-47e9-c7c0-6d9d0114cd6b"
      },
      "cell_type": "code",
      "source": [
        "from sklearn.cross_validation import train_test_split\n",
        "x_train,x_test,y_train,y_test=train_test_split(X,Y,test_size=0.35,random_state=51)"
      ],
      "execution_count": 8,
      "outputs": [
        {
          "output_type": "stream",
          "text": [
            "/usr/local/lib/python3.6/dist-packages/sklearn/cross_validation.py:41: DeprecationWarning: This module was deprecated in version 0.18 in favor of the model_selection module into which all the refactored classes and functions are moved. Also note that the interface of the new CV iterators are different from that of this module. This module will be removed in 0.20.\n",
            "  \"This module will be removed in 0.20.\", DeprecationWarning)\n"
          ],
          "name": "stderr"
        }
      ]
    },
    {
      "metadata": {
        "id": "_QpRhhFbrkTF",
        "colab_type": "code",
        "colab": {}
      },
      "cell_type": "code",
      "source": [
        "#importing support vector machine\n",
        "from sklearn import svm"
      ],
      "execution_count": 0,
      "outputs": []
    },
    {
      "metadata": {
        "id": "rK_lvBmywYra",
        "colab_type": "text"
      },
      "cell_type": "markdown",
      "source": [
        "#linear "
      ]
    },
    {
      "metadata": {
        "id": "ST7hnuVyrrp-",
        "colab_type": "code",
        "colab": {
          "base_uri": "https://localhost:8080/",
          "height": 85
        },
        "outputId": "da836c2f-7d42-4471-d553-5807079e0829"
      },
      "cell_type": "code",
      "source": [
        "#using linear type SVM\n",
        "linear= svm.SVC(kernel='linear')\n",
        "#fitting the data\n",
        "linear.fit(x_train, y_train)"
      ],
      "execution_count": 10,
      "outputs": [
        {
          "output_type": "execute_result",
          "data": {
            "text/plain": [
              "SVC(C=1.0, cache_size=200, class_weight=None, coef0=0.0,\n",
              "  decision_function_shape='ovr', degree=3, gamma='auto', kernel='linear',\n",
              "  max_iter=-1, probability=False, random_state=None, shrinking=True,\n",
              "  tol=0.001, verbose=False)"
            ]
          },
          "metadata": {
            "tags": []
          },
          "execution_count": 10
        }
      ]
    },
    {
      "metadata": {
        "id": "CVVIJ4o1tBmt",
        "colab_type": "code",
        "colab": {}
      },
      "cell_type": "code",
      "source": [
        "#predicting thee linear with x_test\n",
        "pred=linear.predict(x_test)"
      ],
      "execution_count": 0,
      "outputs": []
    },
    {
      "metadata": {
        "id": "RQTzErY7tVBD",
        "colab_type": "code",
        "colab": {}
      },
      "cell_type": "code",
      "source": [
        "from  sklearn.metrics  import confusion_matrix, classification_report, accuracy_score"
      ],
      "execution_count": 0,
      "outputs": []
    },
    {
      "metadata": {
        "id": "R7gyV_ettm9K",
        "colab_type": "code",
        "colab": {}
      },
      "cell_type": "code",
      "source": [
        "#testing the accuracy\n",
        "linear.score(x_test,y_test)"
      ],
      "execution_count": 0,
      "outputs": []
    },
    {
      "metadata": {
        "id": "LnNAye-DuEr0",
        "colab_type": "code",
        "colab": {
          "base_uri": "https://localhost:8080/",
          "height": 187
        },
        "outputId": "0f6f6102-446e-4d1b-82fd-79a4dd113564"
      },
      "cell_type": "code",
      "source": [
        "#Confusion matrix for linear\n",
        "confusion_matrix(y_test,pred)"
      ],
      "execution_count": 28,
      "outputs": [
        {
          "output_type": "execute_result",
          "data": {
            "text/plain": [
              "array([[64,  0,  0,  0,  0,  0,  0,  0,  0,  0],\n",
              "       [ 0, 65,  0,  0,  0,  0,  0,  0,  0,  0],\n",
              "       [ 0,  0, 51,  0,  0,  0,  0,  0,  0,  0],\n",
              "       [ 0,  0,  1, 63,  0,  0,  0,  0,  0,  0],\n",
              "       [ 0,  1,  0,  0, 67,  0,  0,  0,  0,  0],\n",
              "       [ 0,  0,  0,  0,  0, 68,  0,  0,  0,  0],\n",
              "       [ 0,  1,  0,  0,  0,  0, 65,  0,  0,  0],\n",
              "       [ 0,  0,  0,  0,  0,  0,  0, 54,  1,  0],\n",
              "       [ 0,  5,  0,  0,  0,  0,  0,  0, 56,  0],\n",
              "       [ 0,  0,  0,  0,  0,  1,  0,  0,  1, 65]])"
            ]
          },
          "metadata": {
            "tags": []
          },
          "execution_count": 28
        }
      ]
    },
    {
      "metadata": {
        "id": "mDt7SbpQupIJ",
        "colab_type": "code",
        "colab": {
          "base_uri": "https://localhost:8080/",
          "height": 597
        },
        "outputId": "50d6b790-ea90-4cde-dc90-2b4dae13a949"
      },
      "cell_type": "code",
      "source": [
        "mlp.figure(figsize=(10,10))\n",
        "sns.heatmap(confusion_matrix(y_test,pred),annot=True,square=True,linewidths=.4,fmt=\".2f\")\n",
        "mlp.ylabel(\"Actual label\")\n",
        "mlp.xlabel(\"predicted label\")\n",
        "print('ACCuracy=',svc_linear.score(x_test,y_test))"
      ],
      "execution_count": 40,
      "outputs": [
        {
          "output_type": "stream",
          "text": [
            "ACCuracy= 0.9825119236883942\n"
          ],
          "name": "stdout"
        },
        {
          "output_type": "display_data",
          "data": {
            "image/png": "[encoded data removed]",
            "text/plain": [
              "<matplotlib.figure.Figure at 0x7f73e46c1128>"
            ]
          },
          "metadata": {
            "tags": []
          }
        }
      ]
    },
    {
      "metadata": {
        "id": "wLywgILNv9cz",
        "colab_type": "code",
        "colab": {
          "base_uri": "https://localhost:8080/",
          "height": 54
        },
        "outputId": "676a6bd3-5e5b-4e97-a24b-35ca71d0ee3d"
      },
      "cell_type": "code",
      "source": [
        "classification_report(y_test,pred)"
      ],
      "execution_count": 16,
      "outputs": [
        {
          "output_type": "execute_result",
          "data": {
            "text/plain": [
              "'             precision    recall  f1-score   support\\n\\n          0       1.00      1.00      1.00        64\\n          1       0.90      1.00      0.95        65\\n          2       0.98      1.00      0.99        51\\n          3       1.00      0.98      0.99        64\\n          4       1.00      0.99      0.99        68\\n          5       0.99      1.00      0.99        68\\n          6       1.00      0.98      0.99        66\\n          7       1.00      0.98      0.99        55\\n          8       0.97      0.92      0.94        61\\n          9       1.00      0.97      0.98        67\\n\\navg / total       0.98      0.98      0.98       629\\n'"
            ]
          },
          "metadata": {
            "tags": []
          },
          "execution_count": 16
        }
      ]
    },
    {
      "metadata": {
        "id": "qMg604Bcw9is",
        "colab_type": "text"
      },
      "cell_type": "markdown",
      "source": [
        "#Poly kernel"
      ]
    },
    {
      "metadata": {
        "id": "_YB-pcT9wcQq",
        "colab_type": "code",
        "colab": {
          "base_uri": "https://localhost:8080/",
          "height": 85
        },
        "outputId": "696207a0-830e-4aae-b279-811b0b4577b4"
      },
      "cell_type": "code",
      "source": [
        "#using linear type SVM\n",
        "polyk= svm.SVC(kernel='poly')\n",
        "#fitting the data\n",
        "polyk.fit(x_train, y_train)"
      ],
      "execution_count": 18,
      "outputs": [
        {
          "output_type": "execute_result",
          "data": {
            "text/plain": [
              "SVC(C=1.0, cache_size=200, class_weight=None, coef0=0.0,\n",
              "  decision_function_shape='ovr', degree=3, gamma='auto', kernel='poly',\n",
              "  max_iter=-1, probability=False, random_state=None, shrinking=True,\n",
              "  tol=0.001, verbose=False)"
            ]
          },
          "metadata": {
            "tags": []
          },
          "execution_count": 18
        }
      ]
    },
    {
      "metadata": {
        "id": "6kd7hJHHw7pu",
        "colab_type": "code",
        "colab": {}
      },
      "cell_type": "code",
      "source": [
        "#predicting the poly kernel with x_test\n",
        "pred=polyk.predict(x_test)"
      ],
      "execution_count": 0,
      "outputs": []
    },
    {
      "metadata": {
        "id": "qtQiHarQxdbL",
        "colab_type": "code",
        "colab": {
          "base_uri": "https://localhost:8080/",
          "height": 34
        },
        "outputId": "b32efb6d-1978-44e2-dcec-971356a5e039"
      },
      "cell_type": "code",
      "source": [
        "#testing the accuracy\n",
        "polyk.score(x_test,y_test)"
      ],
      "execution_count": 20,
      "outputs": [
        {
          "output_type": "execute_result",
          "data": {
            "text/plain": [
              "0.9872813990461049"
            ]
          },
          "metadata": {
            "tags": []
          },
          "execution_count": 20
        }
      ]
    },
    {
      "metadata": {
        "id": "NYdXOKeFJ1Am",
        "colab_type": "code",
        "colab": {
          "base_uri": "https://localhost:8080/",
          "height": 187
        },
        "outputId": "c72cdaad-2333-44c4-b60d-ef60e3c09c8f"
      },
      "cell_type": "code",
      "source": [
        "#Confusion matrix for poly kernel\n",
        "confusion_matrix(y_test,pred)"
      ],
      "execution_count": 21,
      "outputs": [
        {
          "output_type": "execute_result",
          "data": {
            "text/plain": [
              "array([[64,  0,  0,  0,  0,  0,  0,  0,  0,  0],\n",
              "       [ 0, 65,  0,  0,  0,  0,  0,  0,  0,  0],\n",
              "       [ 0,  0, 51,  0,  0,  0,  0,  0,  0,  0],\n",
              "       [ 0,  0,  1, 62,  0,  1,  0,  0,  0,  0],\n",
              "       [ 0,  0,  0,  0, 68,  0,  0,  0,  0,  0],\n",
              "       [ 0,  0,  0,  0,  0, 68,  0,  0,  0,  0],\n",
              "       [ 0,  0,  0,  0,  0,  0, 65,  0,  1,  0],\n",
              "       [ 0,  0,  0,  0,  0,  0,  0, 54,  0,  1],\n",
              "       [ 0,  2,  0,  0,  0,  0,  0,  0, 59,  0],\n",
              "       [ 0,  0,  0,  0,  0,  1,  0,  0,  1, 65]])"
            ]
          },
          "metadata": {
            "tags": []
          },
          "execution_count": 21
        }
      ]
    },
    {
      "metadata": {
        "id": "MI5uG-ozKN5u",
        "colab_type": "code",
        "colab": {
          "base_uri": "https://localhost:8080/",
          "height": 597
        },
        "outputId": "41d83888-1df5-410a-f70e-cb4feb1926aa"
      },
      "cell_type": "code",
      "source": [
        "mlp.figure(figsize=(10,10))\n",
        "sns.heatmap(confusion_matrix(y_test,pred),annot=True,square=True,linewidths=.4,fmt=\".2f\")\n",
        "mlp.ylabel(\"Actual label\")\n",
        "mlp.xlabel(\"predicted label\")\n",
        "print('ACCuracy=',polyk.score(x_test,y_test))"
      ],
      "execution_count": 23,
      "outputs": [
        {
          "output_type": "stream",
          "text": [
            "ACCuracy= 0.9872813990461049\n"
          ],
          "name": "stdout"
        },
        {
          "output_type": "display_data",
          "data": {
            "image/png": "[encoded data removed]",
            "text/plain": [
              "<matplotlib.figure.Figure at 0x7fd1f5bfe588>"
            ]
          },
          "metadata": {
            "tags": []
          }
        }
      ]
    },
    {
      "metadata": {
        "id": "pI9evBReKd_u",
        "colab_type": "code",
        "colab": {
          "base_uri": "https://localhost:8080/",
          "height": 54
        },
        "outputId": "4c45e579-5e8c-4b0c-8f98-c3e23ac41361"
      },
      "cell_type": "code",
      "source": [
        "classification_report(y_test,pred)"
      ],
      "execution_count": 24,
      "outputs": [
        {
          "output_type": "execute_result",
          "data": {
            "text/plain": [
              "'             precision    recall  f1-score   support\\n\\n          0       1.00      1.00      1.00        64\\n          1       0.97      1.00      0.98        65\\n          2       0.98      1.00      0.99        51\\n          3       1.00      0.97      0.98        64\\n          4       1.00      1.00      1.00        68\\n          5       0.97      1.00      0.99        68\\n          6       1.00      0.98      0.99        66\\n          7       1.00      0.98      0.99        55\\n          8       0.97      0.97      0.97        61\\n          9       0.98      0.97      0.98        67\\n\\navg / total       0.99      0.99      0.99       629\\n'"
            ]
          },
          "metadata": {
            "tags": []
          },
          "execution_count": 24
        }
      ]
    },
    {
      "metadata": {
        "id": "M_JQu40tKZtc",
        "colab_type": "text"
      },
      "cell_type": "markdown",
      "source": [
        "#Gaussain Kernel\n"
      ]
    },
    {
      "metadata": {
        "id": "9rrGxomZKpBi",
        "colab_type": "code",
        "colab": {
          "base_uri": "https://localhost:8080/",
          "height": 85
        },
        "outputId": "00a3658e-c3da-4ac9-e6f3-0ebc17a092f5"
      },
      "cell_type": "code",
      "source": [
        "#using gaussian type SVM\n",
        "gk= svm.SVC(kernel='rbf')\n",
        "#fitting the data\n",
        "gk.fit(x_train, y_train)"
      ],
      "execution_count": 27,
      "outputs": [
        {
          "output_type": "execute_result",
          "data": {
            "text/plain": [
              "SVC(C=1.0, cache_size=200, class_weight=None, coef0=0.0,\n",
              "  decision_function_shape='ovr', degree=3, gamma='auto', kernel='rbf',\n",
              "  max_iter=-1, probability=False, random_state=None, shrinking=True,\n",
              "  tol=0.001, verbose=False)"
            ]
          },
          "metadata": {
            "tags": []
          },
          "execution_count": 27
        }
      ]
    },
    {
      "metadata": {
        "id": "331KJCqbK456",
        "colab_type": "code",
        "colab": {}
      },
      "cell_type": "code",
      "source": [
        "#predicting the gaussian with x_test\n",
        "pred=gk.predict(x_test)"
      ],
      "execution_count": 0,
      "outputs": []
    },
    {
      "metadata": {
        "id": "T1Wa8gDTK98-",
        "colab_type": "code",
        "colab": {
          "base_uri": "https://localhost:8080/",
          "height": 34
        },
        "outputId": "3653596a-2158-435c-fc28-0cff1e6a9668"
      },
      "cell_type": "code",
      "source": [
        "#testing the accuracy\n",
        "gk.score(x_test,y_test)"
      ],
      "execution_count": 29,
      "outputs": [
        {
          "output_type": "execute_result",
          "data": {
            "text/plain": [
              "0.34022257551669316"
            ]
          },
          "metadata": {
            "tags": []
          },
          "execution_count": 29
        }
      ]
    },
    {
      "metadata": {
        "id": "WHmihxbQLavk",
        "colab_type": "code",
        "colab": {
          "base_uri": "https://localhost:8080/",
          "height": 187
        },
        "outputId": "48f6f859-ba53-4e0b-deb7-c2af2d9c8f44"
      },
      "cell_type": "code",
      "source": [
        "#Confusion matrix for gaussian\n",
        "confusion_matrix(y_test,pred)"
      ],
      "execution_count": 30,
      "outputs": [
        {
          "output_type": "execute_result",
          "data": {
            "text/plain": [
              "array([[27,  0, 37,  0,  0,  0,  0,  0,  0,  0],\n",
              "       [ 0, 26, 39,  0,  0,  0,  0,  0,  0,  0],\n",
              "       [ 0,  0, 51,  0,  0,  0,  0,  0,  0,  0],\n",
              "       [ 0,  0, 45, 19,  0,  0,  0,  0,  0,  0],\n",
              "       [ 0,  0, 53,  0, 15,  0,  0,  0,  0,  0],\n",
              "       [ 0,  0, 63,  0,  0,  5,  0,  0,  0,  0],\n",
              "       [ 0,  0, 36,  0,  0,  0, 30,  0,  0,  0],\n",
              "       [ 0,  0, 22,  0,  0,  0,  0, 33,  0,  0],\n",
              "       [ 0,  0, 57,  0,  0,  0,  0,  0,  4,  0],\n",
              "       [ 0,  0, 63,  0,  0,  0,  0,  0,  0,  4]])"
            ]
          },
          "metadata": {
            "tags": []
          },
          "execution_count": 30
        }
      ]
    },
    {
      "metadata": {
        "id": "Kl2-GoBYMMu1",
        "colab_type": "code",
        "colab": {
          "base_uri": "https://localhost:8080/",
          "height": 597
        },
        "outputId": "e3765b77-71eb-4a24-aee1-2c2e26cc64df"
      },
      "cell_type": "code",
      "source": [
        "mlp.figure(figsize=(10,10))\n",
        "sns.heatmap(confusion_matrix(y_test,pred),annot=True,square=True,linewidths=.4,fmt=\".2f\")\n",
        "mlp.ylabel(\"Actual label\")\n",
        "mlp.xlabel(\"predicted label\")\n",
        "print('ACCuracy=',gk.score(x_test,y_test))"
      ],
      "execution_count": 31,
      "outputs": [
        {
          "output_type": "stream",
          "text": [
            "ACCuracy= 0.34022257551669316\n"
          ],
          "name": "stdout"
        },
        {
          "output_type": "display_data",
          "data": {
            "image/png": "[encoded data removed]",
            "text/plain": [
              "<matplotlib.figure.Figure at 0x7fd1f5acb550>"
            ]
          },
          "metadata": {
            "tags": []
          }
        }
      ]
    },
    {
      "metadata": {
        "id": "DMx76kqHMUkb",
        "colab_type": "text"
      },
      "cell_type": "markdown",
      "source": [
        "#Sigmoid Kernel"
      ]
    },
    {
      "metadata": {
        "id": "UzPqjgKtMT-w",
        "colab_type": "code",
        "colab": {
          "base_uri": "https://localhost:8080/",
          "height": 85
        },
        "outputId": "8b344b41-8326-4221-d80f-63e0363d9fa2"
      },
      "cell_type": "code",
      "source": [
        "#using Sigmoid type SVM\n",
        "sk= svm.SVC(kernel='sigmoid')\n",
        "#fitting the data\n",
        "sk.fit(x_train, y_train)"
      ],
      "execution_count": 32,
      "outputs": [
        {
          "output_type": "execute_result",
          "data": {
            "text/plain": [
              "SVC(C=1.0, cache_size=200, class_weight=None, coef0=0.0,\n",
              "  decision_function_shape='ovr', degree=3, gamma='auto', kernel='sigmoid',\n",
              "  max_iter=-1, probability=False, random_state=None, shrinking=True,\n",
              "  tol=0.001, verbose=False)"
            ]
          },
          "metadata": {
            "tags": []
          },
          "execution_count": 32
        }
      ]
    },
    {
      "metadata": {
        "id": "dQPqCvNqMny9",
        "colab_type": "code",
        "colab": {}
      },
      "cell_type": "code",
      "source": [
        "#predicting the Sigmoid with x_test\n",
        "pred=sk.predict(x_test)"
      ],
      "execution_count": 0,
      "outputs": []
    },
    {
      "metadata": {
        "id": "yhwJN91qMvgk",
        "colab_type": "code",
        "colab": {
          "base_uri": "https://localhost:8080/",
          "height": 34
        },
        "outputId": "99ef44d3-c389-4612-e600-225ed274c016"
      },
      "cell_type": "code",
      "source": [
        "#testing the accuracy\n",
        "sk.score(x_test,y_test)"
      ],
      "execution_count": 35,
      "outputs": [
        {
          "output_type": "execute_result",
          "data": {
            "text/plain": [
              "0.08108108108108109"
            ]
          },
          "metadata": {
            "tags": []
          },
          "execution_count": 35
        }
      ]
    },
    {
      "metadata": {
        "id": "j6UGQFIdM4Ul",
        "colab_type": "code",
        "colab": {
          "base_uri": "https://localhost:8080/",
          "height": 187
        },
        "outputId": "6b31a223-822b-41f5-b525-8117ca3fbfe4"
      },
      "cell_type": "code",
      "source": [
        "#Confusion matrix for sigmoid\n",
        "confusion_matrix(y_test,pred)"
      ],
      "execution_count": 36,
      "outputs": [
        {
          "output_type": "execute_result",
          "data": {
            "text/plain": [
              "array([[ 0,  0, 64,  0,  0,  0,  0,  0,  0,  0],\n",
              "       [ 0,  0, 65,  0,  0,  0,  0,  0,  0,  0],\n",
              "       [ 0,  0, 51,  0,  0,  0,  0,  0,  0,  0],\n",
              "       [ 0,  0, 64,  0,  0,  0,  0,  0,  0,  0],\n",
              "       [ 0,  0, 68,  0,  0,  0,  0,  0,  0,  0],\n",
              "       [ 0,  0, 68,  0,  0,  0,  0,  0,  0,  0],\n",
              "       [ 0,  0, 66,  0,  0,  0,  0,  0,  0,  0],\n",
              "       [ 0,  0, 55,  0,  0,  0,  0,  0,  0,  0],\n",
              "       [ 0,  0, 61,  0,  0,  0,  0,  0,  0,  0],\n",
              "       [ 0,  0, 67,  0,  0,  0,  0,  0,  0,  0]])"
            ]
          },
          "metadata": {
            "tags": []
          },
          "execution_count": 36
        }
      ]
    },
    {
      "metadata": {
        "id": "4Rd0_9RBNBGK",
        "colab_type": "code",
        "colab": {
          "base_uri": "https://localhost:8080/",
          "height": 597
        },
        "outputId": "76b04dbd-717c-49bf-e509-8e14e1ffdcbe"
      },
      "cell_type": "code",
      "source": [
        "mlp.figure(figsize=(10,10))\n",
        "sns.heatmap(confusion_matrix(y_test,pred),annot=True,square=True,linewidths=.4,fmt=\".2f\")\n",
        "mlp.ylabel(\"Actual label\")\n",
        "mlp.xlabel(\"predicted label\")\n",
        "print('ACCuracy=',sk.score(x_test,y_test))"
      ],
      "execution_count": 37,
      "outputs": [
        {
          "output_type": "stream",
          "text": [
            "ACCuracy= 0.08108108108108109\n"
          ],
          "name": "stdout"
        },
        {
          "output_type": "display_data",
          "data": {
            "image/png": "[encoded data removed]",
            "text/plain": [
              "<matplotlib.figure.Figure at 0x7fd1f59e2438>"
            ]
          },
          "metadata": {
            "tags": []
          }
        }
      ]
    }
  ]
}